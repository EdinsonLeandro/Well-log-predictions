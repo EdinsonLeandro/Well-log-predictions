{
 "cells": [
  {
   "cell_type": "markdown",
   "id": "4cd728ce",
   "metadata": {},
   "source": [
    "# S-Wave Prediction"
   ]
  },
  {
   "cell_type": "markdown",
   "id": "c05c4117",
   "metadata": {},
   "source": [
    "## Global Variables.\n",
    "This values will be use throughout the algorithm."
   ]
  },
  {
   "cell_type": "markdown",
   "id": "7b820d5d",
   "metadata": {},
   "source": [
    "SeisLab https://www.mathworks.com/matlabcentral/fileexchange/53109-seislab-3-02?s_tid=FX_rc1_behav"
   ]
  },
  {
   "cell_type": "code",
   "execution_count": 1,
   "id": "36926445",
   "metadata": {},
   "outputs": [
    {
     "name": "stdout",
     "output_type": "stream",
     "text": [
      "\n"
     ]
    }
   ],
   "source": [
    "global obj pred num\n",
    "\n",
    "% obj: Integer. Refers to location of the well log column in the \".LAS\" file, that is the target of the prediction.\n",
    "obj=3;\n",
    "\n",
    "% pred: Vector. Refers to location of the well logs columns in the \".LAS\" file, selected as input to train the model.\n",
    "pred=[6 7];\n",
    "\n",
    "% num: Number of independent variables, i.e. size of the vector \"pred\".\n",
    "num=size(pred,2);\n",
    "\n",
    "% Selection of prediction technique.\n",
    "% 1: Genetic Algorithms using linear equation.\n",
    "% 2: Genetic Algorithms using polynomial equation.\n",
    "% 3: Fuzzy Logic.\n",
    "PREDICCION=3;"
   ]
  },
  {
   "cell_type": "markdown",
   "id": "53638fe1",
   "metadata": {},
   "source": [
    "## Exploratory Data Analysis"
   ]
  },
  {
   "cell_type": "markdown",
   "id": "72bddee9",
   "metadata": {},
   "source": [
    "Summarize about \".LAS\" format. The information is in this [link](https://www.cwls.org/wp-content/uploads/2017/02/Las2_Update_Feb2017.pdf).\n",
    "\n",
    "Summarize about \"SeisLab3.02\" package and the struct returned using \"read_las_file\". You can download from Mathworks [here](https://www.mathworks.com/matlabcentral/fileexchange/53109-seislab-3-02)"
   ]
  },
  {
   "cell_type": "code",
   "execution_count": 2,
   "id": "202e4a93",
   "metadata": {},
   "outputs": [
    {
     "name": "stdout",
     "output_type": "stream",
     "text": [
      "\n"
     ]
    }
   ],
   "source": [
    "% Add to path:\n",
    "% Folder with training and test data.\n",
    "addpath(genpath('Data'))\n",
    "\n",
    "% Folder with 'SeisLab3.02' package\n",
    "addpath(genpath('SeisLab3.02'))\n",
    "\n",
    "% Folder with functions made it to this project\n",
    "addpath(genpath('Functions'))\n",
    "\n",
    "% Suppress excess blank lines to show more output on a single screen.\n",
    "% Default is \"loose= Add blank lines to make output more readable.\"\n",
    "format compact"
   ]
  },
  {
   "cell_type": "markdown",
   "id": "25e30b39",
   "metadata": {},
   "source": [
    "### Training Data\n",
    "\n",
    "Explain that it was selected Well-01 as training data.\n",
    "Well logs and curves are used as synonyms."
   ]
  },
  {
   "cell_type": "code",
   "execution_count": 3,
   "id": "271ac909",
   "metadata": {},
   "outputs": [
    {
     "name": "stdout",
     "output_type": "stream",
     "text": [
      "\n"
     ]
    }
   ],
   "source": [
    "% Well tops definition. They are otherwise known as picks or markers. They define the top and the bottom of the\n",
    "% stratigraphic unit of interest. \n",
    "% Matrix \"WELL_TOPS\": The 1st row is related to training data and 2nd row to test data.\n",
    "% WELL_TOPS = [[top bottom] ; \n",
    "%             [top bottom]]\n",
    "\n",
    "WELL_TOPS = [[7297.9702, 7377.0601] ; [8295.0703, 8377.0703]];"
   ]
  },
  {
   "cell_type": "code",
   "execution_count": 4,
   "id": "311e8689",
   "metadata": {},
   "outputs": [
    {
     "name": "stdout",
     "output_type": "stream",
     "text": [
      "Log step size not uniform enough; step size changed to 0\n",
      "\n"
     ]
    }
   ],
   "source": [
    "% Load training data.\n",
    "% \"read_las_file\" in 'SeisLab3.02' package return a structure array with all the information from \".LAS\" file\n",
    "TrainingData=read_las_file('Well-1.LAS');"
   ]
  },
  {
   "cell_type": "markdown",
   "id": "57a72360",
   "metadata": {},
   "source": [
    "<i>\"Log step size not uniform enough\"</i> means that in this data the sampling interval is not the same in all well logs. The <i>\"read_las_file\"</i> function returns a structure with many fields, for example:\n",
    "- <i>\"curve_info\"</i>. <b>Curve information</b>. It has acronyms, curves names and units in the same order as in ~ASCII log data section.\n",
    "- <i>\"curves\"</i>. <b>Data section</b>. ~ASCII data for each well log. All values must be floating point or integer (long) values.\n",
    "- <i>\"step\"</i>. Sample interval of the curves.\n",
    "\n",
    "The index of the data columns is either depth, time, or index. Usually, in well logs <b>the sample interval is a constant equal to 0.5 ft.</b>  Let's see its behavior in 6 rows of data."
   ]
  },
  {
   "cell_type": "code",
   "execution_count": 5,
   "id": "1d8b2a71",
   "metadata": {},
   "outputs": [
    {
     "name": "stdout",
     "output_type": "stream",
     "text": [
      "       6890.8          NaN       158.34       86.696          NaN          NaN          NaN\n",
      "         6891          NaN       156.87       87.286          NaN          NaN          NaN\n",
      "         6891        2.529          NaN          NaN       0.9701        0.099       0.5123\n",
      "       6891.2          NaN       155.24       87.794          NaN          NaN          NaN\n",
      "       6891.5        2.516       153.64       88.135            1       0.0989        0.532\n",
      "       6891.8          NaN       152.05       88.204          NaN          NaN          NaN\n",
      "\n"
     ]
    }
   ],
   "source": [
    "% format shortG. Display only 5 digits. \n",
    "% Here you can find more information about format -> https://www.mathworks.com/help/matlab/ref/format.html\n",
    "format shortG\n",
    "\n",
    "disp(TrainingData.curves(1505:1510,:))"
   ]
  },
  {
   "cell_type": "markdown",
   "id": "4975198a",
   "metadata": {},
   "source": [
    "We can see how the function \"read_las_file\" change the step size in order to put together all well logs and fill empty data with NaN values."
   ]
  },
  {
   "cell_type": "code",
   "execution_count": 6,
   "id": "afe4955b",
   "metadata": {},
   "outputs": [
    {
     "name": "stdout",
     "output_type": "stream",
     "text": [
      "\n"
     ]
    },
    {
     "data": {
      "image/png": "[encoded data removed]",
      "text/plain": [
       "<IPython.core.display.Image object>"
      ]
     },
     "metadata": {},
     "output_type": "display_data"
    }
   ],
   "source": [
    "% Substract the next depth value with the previous one and keep into \"measureIntervals\" vector. \n",
    "% This approach tries to avoid for loops, because it's inefficient\n",
    "measureIntervals = TrainingData.curves(2:end, 1) - TrainingData.curves(1:end-1, 1);\n",
    "\n",
    "% Plot histogram of depth intervals\n",
    "histogram(measureIntervals)\n",
    "title('Histogram of depth intervals before cleaning Training data')\n",
    "xlabel('Depth intervals')\n",
    "ylabel('Count')"
   ]
  },
  {
   "cell_type": "markdown",
   "id": "e991590e",
   "metadata": {},
   "source": [
    "The sampling intervals is not the same along the well. In most of the depth column is 0.25 ft. It must be 0.5 ft."
   ]
  },
  {
   "cell_type": "code",
   "execution_count": 7,
   "id": "e4bc249b",
   "metadata": {},
   "outputs": [
    {
     "name": "stdout",
     "output_type": "stream",
     "text": [
      "Percentage of NaN values in training data by curve:\n",
      "Density: 53.88%\n",
      "Delta-T Shear: 13.75%\n",
      "Delta-T Compressional: 13.75%\n",
      "Water Saturation: 68.55%\n",
      "Neutron Porosity: 68.55%\n",
      "Shale Volume: 68.55%\n",
      "\n"
     ]
    }
   ],
   "source": [
    "% NaN values into Well-01\n",
    "disp('Percentage of NaN values in training data by curve:')\n",
    "\n",
    "% Number of rows in Training data matrix\n",
    "nRows = size(TrainingData.curves,1);\n",
    "\n",
    "% Compute the percentage of NaN values in each curve.\n",
    "for item = 2:7\n",
    "    nan_values = TrainingData.curves(isnan(TrainingData.curves(:,item)), item);\n",
    "    pNan = (size(nan_values, 1) / nRows) * 100;\n",
    "    fprintf('%s: %2.2f%%\\n', string(TrainingData.curve_info(item, 3)), pNan);\n",
    "end"
   ]
  },
  {
   "cell_type": "markdown",
   "id": "982548b8",
   "metadata": {},
   "source": [
    "Here, we can see the <b>high number of NaN values</b> in each curve from Well-01. This could be by:\n",
    "- A large number of depth intervals without data (gaps).\n",
    "- NaN values was added to curves by \"read_las_file\" function, due to step size is not uniform along all the curves.\n",
    "\n",
    "In order to analyse the first hypothesis, let's plot Density, Delta-T Shear and Shale Volume. The function <i>\"plotWellLogs\"</i> filter NaN values and include two green lines for well tops."
   ]
  },
  {
   "cell_type": "code",
   "execution_count": 8,
   "id": "62378d86",
   "metadata": {},
   "outputs": [
    {
     "name": "stdout",
     "output_type": "stream",
     "text": [
      "\n"
     ]
    },
    {
     "data": {
      "image/png": "[encoded data removed]",
      "text/plain": [
       "<IPython.core.display.Image object>"
      ]
     },
     "metadata": {},
     "output_type": "display_data"
    }
   ],
   "source": [
    "% plotWellLogs(data, wellNames, units, wellTops)\n",
    "plotWellLogs(TrainingData.curves(:,[1, 2, 3, 7]), ...     % data: [DEPTH, RHOB, DTSM, VSH]\n",
    "            TrainingData.curve_info([1, 2, 3, 7], 1), ... % wellNames: Column 1 from TrainingData.curve_info\n",
    "            TrainingData.curve_info([1, 2, 3, 7], 2), ... % units: Column 2 from TrainingData.curve_info\n",
    "            WELL_TOPS(1,:));"
   ]
  },
  {
   "cell_type": "markdown",
   "id": "aa62f684",
   "metadata": {},
   "source": [
    "Several observations can be made from this graph:\n",
    "- The interval measurement of the curves is not the same.\n",
    "- There is full data into the stratigraphic unit of interest.\n",
    "- The line curve seems to be continous. There is no visible gaps into the curves.\n",
    "\n",
    "Therefore, the high percentage of NaN values is because of the difference in sample interval. Thus, the solution is interpolate null values and then filter data only each 0.5 ft."
   ]
  },
  {
   "cell_type": "code",
   "execution_count": 9,
   "id": "1356dc20",
   "metadata": {},
   "outputs": [
    {
     "name": "stdout",
     "output_type": "stream",
     "text": [
      "\n"
     ]
    }
   ],
   "source": [
    "% function \"l_fill_gaps\". It interpolates null values of all curves. It assumes that null values are represented by NaN’s.\n",
    "TrainingData = l_fill_gaps(TrainingData);\n",
    "\n",
    "% Filter data every 0.5 ft.\n",
    "% mod(X,b) returns remainder after division of X by b. Here, X is depth column of training data.\n",
    "% The value \"0.5\" makes sure to filter only depths ending in 0.0 or 0.5.\n",
    "TrainingData.curves = TrainingData.curves(mod(TrainingData.curves(:,1), 0.5) == 0,:);"
   ]
  },
  {
   "cell_type": "markdown",
   "id": "fb86c68a",
   "metadata": {},
   "source": [
    "Plot the depth intervals histogram again in order to contrast the difference after cleaning data processing."
   ]
  },
  {
   "cell_type": "code",
   "execution_count": 10,
   "id": "6254ef46",
   "metadata": {},
   "outputs": [
    {
     "name": "stdout",
     "output_type": "stream",
     "text": [
      "After cleaning NaN values and resampling, 98.321% of depth column is sampled at 0.5 ft\n",
      "\n"
     ]
    },
    {
     "data": {
      "image/png": "[encoded data removed]",
      "text/plain": [
       "<IPython.core.display.Image object>"
      ]
     },
     "metadata": {},
     "output_type": "display_data"
    }
   ],
   "source": [
    "% Substract the next depth value with the previous one and plot histogram this depth intervals.\n",
    "\n",
    "hist = histogram(TrainingData.curves(2:end, 1) - TrainingData.curves(1:end-1, 1));\n",
    "title('Histogram of depth intervals after cleaning Training data')\n",
    "xlabel('Depth intervals')\n",
    "ylabel('Count')\n",
    "\n",
    "fprintf('After cleaning NaN values and resampling, %3.3f%% of depth column is sampled at 0.5 ft\\n',...\n",
    "        (hist.Values(1) * 100) / (hist.Values(end) + hist.Values(1)))"
   ]
  },
  {
   "cell_type": "markdown",
   "id": "8e174faa",
   "metadata": {},
   "source": [
    "Now, let's see the measurement intervals in each curve in order to select data to train the model."
   ]
  },
  {
   "cell_type": "code",
   "execution_count": 11,
   "id": "cbd30e11",
   "metadata": {},
   "outputs": [
    {
     "name": "stdout",
     "output_type": "stream",
     "text": [
      "Measurement interval for all curves in Well-1 (Training Data):\n",
      "Density: (6530.5 - 7560.0) ft\n",
      "Delta-T Shear: (6570.0 - 7540.0) ft\n",
      "Delta-T Compressional: (6570.0 - 7540.0) ft\n",
      "Water Saturation: (6850.0 - 7552.0) ft\n",
      "Neutron Porosity: (6850.0 - 7552.0) ft\n",
      "Shale Volume: (6850.0 - 7552.0) ft\n",
      "\n"
     ]
    }
   ],
   "source": [
    "% Print measurement interval of all curves\n",
    "fprintf('Measurement interval for all curves in %s (Training Data):\\n', TrainingData.wellname)\n",
    "for iCols= 2: size(TrainingData.curves, 2)\n",
    "    first_index = find(~isnan(TrainingData.curves(:,iCols)), 1, 'first');\n",
    "    last_index = find(~isnan(TrainingData.curves(:,iCols)), 1, 'last');\n",
    "    fprintf('%s: (%4.1f - %4.1f) ft\\n',  string(TrainingData.curve_info(iCols,3)),...\n",
    "                                    TrainingData.curves(first_index,1), ...\n",
    "                                    TrainingData.curves(last_index,1))\n",
    "end"
   ]
  },
  {
   "cell_type": "markdown",
   "id": "09abc6ff",
   "metadata": {},
   "source": [
    "Based on these intervals and well tops location in Well-01, we can select a window 150 ft above and 120 ft below of well tops limits, i.e. an interval depth between 7150 ft - 7500 ft."
   ]
  },
  {
   "cell_type": "markdown",
   "id": "26453cca-fc1c-4107-84c1-ce121ce29db2",
   "metadata": {},
   "source": [
    "There could be the next steps:\n",
    "- Show the histograms of each well log.\n",
    "- Crossplots VP-Density and color with Vshale or Porosity or Water Saturation.\n",
    "- Histogram for shale densities and sand desities and show the difference.\n",
    "- Plot Box plot and cross plot here in order to see some primary correlations."
   ]
  },
  {
   "cell_type": "code",
   "execution_count": null,
   "id": "893073cf",
   "metadata": {},
   "outputs": [],
   "source": []
  },
  {
   "cell_type": "code",
   "execution_count": null,
   "id": "806e8abe",
   "metadata": {},
   "outputs": [],
   "source": []
  },
  {
   "cell_type": "markdown",
   "id": "05e7e1ab",
   "metadata": {},
   "source": [
    "### Test Data\n",
    "\n",
    "Explain that it was selected Well-02 as TEST data. Here, I am going to follow the same analysis than Training data."
   ]
  },
  {
   "cell_type": "code",
   "execution_count": 12,
   "id": "cec595a4",
   "metadata": {},
   "outputs": [
    {
     "name": "stdout",
     "output_type": "stream",
     "text": [
      "\n"
     ]
    }
   ],
   "source": [
    "% Load training data.\n",
    "% \"read_las_file\" in 'SeisLab3.02' package return a structure array with all the information from \".LAS\" file\n",
    "TestData=read_las_file('Well-2.LAS');"
   ]
  },
  {
   "cell_type": "markdown",
   "id": "caf72ee9",
   "metadata": {},
   "source": [
    "Sampling interval does not change along test data and it is equal rougly 0.5 ft. The following histogram show this."
   ]
  },
  {
   "cell_type": "code",
   "execution_count": 16,
   "id": "50bb4960",
   "metadata": {},
   "outputs": [
    {
     "name": "stdout",
     "output_type": "stream",
     "text": [
      "\n"
     ]
    },
    {
     "data": {
      "image/png": "[encoded data removed]",
      "text/plain": [
       "<IPython.core.display.Image object>"
      ]
     },
     "metadata": {},
     "output_type": "display_data"
    }
   ],
   "source": [
    "% Substract the next depth value with the previous one and plot histogram of depth intervals\n",
    "histogram(TestData.curves(2:end, 1) - TestData.curves(1:end-1, 1));\n",
    "title('Histogram of depth intervals in Test data')\n",
    "xlabel('Depth intervals')\n",
    "ylabel('Count')"
   ]
  },
  {
   "cell_type": "markdown",
   "id": "d5666326",
   "metadata": {},
   "source": [
    "What's about NaN values in test data?"
   ]
  },
  {
   "cell_type": "code",
   "execution_count": 44,
   "id": "6fe84d05",
   "metadata": {},
   "outputs": [
    {
     "name": "stdout",
     "output_type": "stream",
     "text": [
      "Percentage of NaN values in test data by curve:\n",
      "Density: 0.47%\n",
      "Delta-T Shear: 0.00%\n",
      "Delta-T Compressional: 0.00%\n",
      "Shale Volume: 66.75%\n",
      "Water Saturation: 66.75%\n",
      "Neutron Porosity: 66.75%\n",
      "\n"
     ]
    }
   ],
   "source": [
    "% NaN values into Well-02\n",
    "disp('Percentage of NaN values in test data by curve:')\n",
    "\n",
    "% Number of rows in Training data matrix\n",
    "nRows = size(TestData.curves,1);\n",
    "\n",
    "% Compute the percentage of NaN values in each curve.\n",
    "for item = 2:7\n",
    "    nan_values = TestData.curves(isnan(TestData.curves(:,item)), item);\n",
    "    pNan = (size(nan_values, 1) / nRows) * 100;\n",
    "    fprintf('%s: %2.2f%%\\n', string(TestData.curve_info(item, 3)), pNan);\n",
    "end"
   ]
  },
  {
   "cell_type": "markdown",
   "id": "466b9205",
   "metadata": {},
   "source": [
    "Percentage of NaN values in Shale Volume, Water Saturation are higher than in the others curves."
   ]
  },
  {
   "cell_type": "code",
   "execution_count": 37,
   "id": "c8a7fd5c",
   "metadata": {},
   "outputs": [
    {
     "name": "stdout",
     "output_type": "stream",
     "text": [
      "\n"
     ]
    },
    {
     "data": {
      "image/png": "[encoded data removed]",
      "text/plain": [
       "<IPython.core.display.Image object>"
      ]
     },
     "metadata": {},
     "output_type": "display_data"
    }
   ],
   "source": [
    "% plotWellLogs(data, wellNames, units, wellTops)\n",
    "plotWellLogs(TestData.curves(:,[1, 4, 5, 7]), ...     % data: [DEPTH, RHOB, DTSM, VSH]\n",
    "            TestData.curve_info([1, 4, 5, 7], 1), ... % wellNames.\n",
    "            TestData.curve_info([1, 4, 5, 7], 2), ... % units.\n",
    "            WELL_TOPS(2,:));"
   ]
  },
  {
   "cell_type": "markdown",
   "id": "89477eda",
   "metadata": {},
   "source": [
    "The high percentage of NaN values in VSH, NPHI and SW curves is due to high gap (depth interval without data) between 7400' and 8100'."
   ]
  },
  {
   "cell_type": "code",
   "execution_count": 42,
   "id": "7a9b5302",
   "metadata": {},
   "outputs": [
    {
     "name": "stdout",
     "output_type": "stream",
     "text": [
      "\n"
     ]
    }
   ],
   "source": [
    "% Interpolate null values with function \"l_fill_gaps\" only over Density ('rhob') and Delta-T Compressional ('dtco')\n",
    "TestData = l_fill_gaps(TestData, {'rhob', 'dtco'});"
   ]
  },
  {
   "cell_type": "code",
   "execution_count": null,
   "id": "344e57c6",
   "metadata": {},
   "outputs": [],
   "source": []
  },
  {
   "cell_type": "code",
   "execution_count": null,
   "id": "ffd25a8e",
   "metadata": {},
   "outputs": [],
   "source": []
  },
  {
   "cell_type": "code",
   "execution_count": null,
   "id": "c02b9f19",
   "metadata": {},
   "outputs": [],
   "source": []
  },
  {
   "cell_type": "code",
   "execution_count": null,
   "id": "c766068b",
   "metadata": {},
   "outputs": [],
   "source": []
  },
  {
   "cell_type": "code",
   "execution_count": 63,
   "id": "634e52ed",
   "metadata": {},
   "outputs": [
    {
     "name": "stdout",
     "output_type": "stream",
     "text": [
      "\n"
     ]
    },
    {
     "data": {
      "image/png": "[encoded data removed]",
      "text/plain": [
       "<IPython.core.display.Image object>"
      ]
     },
     "metadata": {},
     "output_type": "display_data"
    }
   ],
   "source": [
    "% Plot RHOB, DTCO, DTSM histogram\n",
    "for item = 1:3\n",
    "    ax = subplot(3, 1, item);\n",
    "    histogram(TrainingData.curves(:, item+1));\n",
    "    ax.FontSize = 7;\n",
    "    ax.TitleFontSizeMultiplier = 1.5;\n",
    "    title(TrainingData.curve_info(item+1,3));\n",
    "end"
   ]
  },
  {
   "cell_type": "code",
   "execution_count": 64,
   "id": "5a4a3529",
   "metadata": {},
   "outputs": [
    {
     "name": "stdout",
     "output_type": "stream",
     "text": [
      "\n"
     ]
    },
    {
     "data": {
      "image/png": "[encoded data removed]",
      "text/plain": [
       "<IPython.core.display.Image object>"
      ]
     },
     "metadata": {},
     "output_type": "display_data"
    }
   ],
   "source": [
    "% Plot RHOB, DTCO, DTSM histogram\n",
    "for item = 1:3\n",
    "    ax = subplot(3, 1, item);\n",
    "    histogram(TrainingData.curves(:, item+4));\n",
    "    ax.FontSize = 7;\n",
    "    ax.TitleFontSizeMultiplier = 1.5;\n",
    "    title(TrainingData.curve_info(item+4,3));\n",
    "end"
   ]
  },
  {
   "cell_type": "code",
   "execution_count": null,
   "id": "966dc745",
   "metadata": {},
   "outputs": [],
   "source": []
  },
  {
   "cell_type": "code",
   "execution_count": null,
   "id": "0e4647a5",
   "metadata": {},
   "outputs": [],
   "source": []
  },
  {
   "cell_type": "code",
   "execution_count": null,
   "id": "3b73b7d4",
   "metadata": {},
   "outputs": [],
   "source": []
  },
  {
   "cell_type": "code",
   "execution_count": null,
   "id": "4353161f",
   "metadata": {},
   "outputs": [],
   "source": []
  },
  {
   "cell_type": "code",
   "execution_count": 11,
   "id": "adac13e2",
   "metadata": {
    "tags": []
   },
   "outputs": [
    {
     "name": "stdout",
     "output_type": "stream",
     "text": [
      "\n"
     ]
    }
   ],
   "source": [
    "% Load test data.\n",
    "Test_data=read_las_file('Well-2.LAS');"
   ]
  },
  {
   "cell_type": "code",
   "execution_count": null,
   "id": "e641299f",
   "metadata": {},
   "outputs": [],
   "source": []
  },
  {
   "cell_type": "code",
   "execution_count": null,
   "id": "c097f209",
   "metadata": {},
   "outputs": [],
   "source": []
  },
  {
   "cell_type": "code",
   "execution_count": 23,
   "id": "623d2cf8",
   "metadata": {},
   "outputs": [
    {
     "name": "stdout",
     "output_type": "stream",
     "text": [
      "\n"
     ]
    }
   ],
   "source": [
    "% By now, I think this is not important to transform DT data to Velocity."
   ]
  },
  {
   "cell_type": "code",
   "execution_count": null,
   "id": "cc42315c",
   "metadata": {},
   "outputs": [],
   "source": []
  },
  {
   "cell_type": "code",
   "execution_count": null,
   "id": "a8c2d1dc",
   "metadata": {},
   "outputs": [],
   "source": []
  },
  {
   "cell_type": "markdown",
   "id": "26d8b9f3",
   "metadata": {},
   "source": [
    "## Pre-processing data"
   ]
  },
  {
   "cell_type": "code",
   "execution_count": null,
   "id": "649bd0ed",
   "metadata": {},
   "outputs": [],
   "source": []
  },
  {
   "cell_type": "code",
   "execution_count": null,
   "id": "87953491",
   "metadata": {},
   "outputs": [],
   "source": []
  },
  {
   "cell_type": "code",
   "execution_count": null,
   "id": "d1127edf",
   "metadata": {},
   "outputs": [],
   "source": []
  },
  {
   "cell_type": "code",
   "execution_count": null,
   "id": "6fde3d88",
   "metadata": {},
   "outputs": [],
   "source": []
  },
  {
   "cell_type": "code",
   "execution_count": null,
   "id": "0f7dc972",
   "metadata": {},
   "outputs": [],
   "source": []
  },
  {
   "cell_type": "code",
   "execution_count": null,
   "id": "627e38f0",
   "metadata": {},
   "outputs": [],
   "source": []
  },
  {
   "cell_type": "code",
   "execution_count": null,
   "id": "689cc221",
   "metadata": {},
   "outputs": [],
   "source": []
  },
  {
   "cell_type": "code",
   "execution_count": null,
   "id": "2edc9fd6",
   "metadata": {},
   "outputs": [],
   "source": []
  },
  {
   "cell_type": "markdown",
   "id": "14e73a27",
   "metadata": {},
   "source": [
    "Check overfitting - underfitting"
   ]
  },
  {
   "cell_type": "code",
   "execution_count": null,
   "id": "5bc03e52",
   "metadata": {},
   "outputs": [],
   "source": []
  },
  {
   "cell_type": "code",
   "execution_count": 8,
   "id": "3f1ca5a8",
   "metadata": {},
   "outputs": [
    {
     "name": "stdout",
     "output_type": "stream",
     "text": [
      "\n"
     ]
    },
    {
     "data": {
      "image/png": "[encoded data removed]",
      "text/plain": [
       "<IPython.core.display.Image object>"
      ]
     },
     "metadata": {},
     "output_type": "display_data"
    }
   ],
   "source": [
    "[rows, columns] = size(TrainingData.curve_info);\n",
    "\n",
    "axis = zeros(6,4);\n",
    "f = cell(6,1);\n",
    "for i= 2:rows\n",
    "\n",
    "    ax = subplot(3, 3, i-1);\n",
    "    histogram(TrainingData.curves(:, i));\n",
    "    ax.FontSize = 8;\n",
    "    ax.TitleFontSizeMultiplier = 1.2;\n",
    "\n",
    "    f{i-1} = ax;\n",
    "    axis(i-1, :) = get(ax, 'position');\n",
    "\n",
    "    title(TrainingData.curve_info(i,3));\n",
    "end\n",
    "\n",
    "var = get(f{1}, 'position');\n",
    "set(f{1}, 'position', var + [0, -0.1, 0.1, 0.1]);\n",
    "\n",
    "var = get(f{2}, 'position');\n",
    "set(f{2}, 'position', var + [0.1, -0.1, 0.1, 0.1]);\n",
    "\n",
    "var = get(f{3}, 'position');\n",
    "set(f{3}, 'position', var + [0.2, -0.1, 0.1, 0.1]);\n",
    "\n",
    "var = get(f{4}, 'position');\n",
    "set(f{4}, 'position', var + [0, -0.3, 0.1, 0.1]);\n",
    "\n",
    "var = get(f{5}, 'position');\n",
    "set(f{5}, 'position', var + [0.1, -0.3, 0.1, 0.1]);\n",
    "\n",
    "var = get(f{6}, 'position');\n",
    "set(f{6}, 'position', var + [0.2, -0.3, 0.1, 0.1]);"
   ]
  },
  {
   "cell_type": "code",
   "execution_count": null,
   "id": "593a740d",
   "metadata": {},
   "outputs": [],
   "source": []
  }
 ],
 "metadata": {
  "kernelspec": {
   "display_name": "Matlab",
   "language": "matlab",
   "name": "matlab"
  },
  "language_info": {
   "codemirror_mode": "octave",
   "file_extension": ".m",
   "help_links": [
    {
     "text": "MetaKernel Magics",
     "url": "https://metakernel.readthedocs.io/en/latest/source/README.html"
    }
   ],
   "mimetype": "text/x-octave",
   "name": "matlab",
   "version": "0.16.11"
  }
 },
 "nbformat": 4,
 "nbformat_minor": 5
}
