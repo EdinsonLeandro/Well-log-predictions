{
 "cells": [
  {
   "cell_type": "markdown",
   "id": "0c8e7338-2e1d-4abf-b157-0647efdbdece",
   "metadata": {},
   "source": [
    "# S-Wave Prediction"
   ]
  },
  {
   "cell_type": "markdown",
   "id": "a0bd2c2c-4d19-41e7-b7f7-bdfabb981107",
   "metadata": {},
   "source": [
    "## Global Variables.\n",
    "This values will be use throughout the algorithm."
   ]
  },
  {
   "cell_type": "markdown",
   "id": "e83ea764-568b-4825-87c3-e920e92c08f0",
   "metadata": {},
   "source": [
    "SeisLab https://www.mathworks.com/matlabcentral/fileexchange/53109-seislab-3-02?s_tid=FX_rc1_behav"
   ]
  },
  {
   "cell_type": "code",
   "execution_count": 29,
   "id": "8ae91c06-3702-45a6-b4e8-497cb24a7faf",
   "metadata": {},
   "outputs": [
    {
     "name": "stdout",
     "output_type": "stream",
     "text": [
      "\n"
     ]
    }
   ],
   "source": [
    "global obj pred num\n",
    "\n",
    "% obj: Integer. Refers to location of the well log column in the \".LAS\" file, that is the target of the prediction.\n",
    "obj=3;\n",
    "\n",
    "% pred: Vector. Refers to location of the well logs columns in the \".LAS\" file, selected as input to train the model.\n",
    "pred=[6 7];\n",
    "\n",
    "% num: Number of independent variables, i.e. size of the vector \"pred\".\n",
    "num=size(pred,2);\n",
    "\n",
    "% Selection of prediction technique.\n",
    "% 1: Genetic Algorithms using linear equation.\n",
    "% 2: Genetic Algorithms using polynomial equation.\n",
    "% 3: Fuzzy Logic.\n",
    "PREDICCION=3;"
   ]
  },
  {
   "cell_type": "markdown",
   "id": "dbb1f84d-0525-43d6-b75d-11d38339eeb6",
   "metadata": {},
   "source": [
    "## Exploratory Data Analysis"
   ]
  },
  {
   "cell_type": "markdown",
   "id": "d37c7791-dfa3-488d-8773-3cb3e01d37e1",
   "metadata": {},
   "source": [
    "Summarize about \".LAS\" format. The information is in this [link](https://www.cwls.org/wp-content/uploads/2017/02/Las2_Update_Feb2017.pdf).\n",
    "\n",
    "Summarize about \"SeisLab3.02\" package and the struct returned using \"read_las_file\". You can download from Mathworks [here](https://www.mathworks.com/matlabcentral/fileexchange/53109-seislab-3-02)"
   ]
  },
  {
   "cell_type": "code",
   "execution_count": 30,
   "id": "b50a4402-9ca3-448a-84e1-0fd88bbc48a0",
   "metadata": {},
   "outputs": [
    {
     "name": "stdout",
     "output_type": "stream",
     "text": [
      "\n"
     ]
    }
   ],
   "source": [
    "% Add to path:\n",
    "% Folder with training and test data.\n",
    "addpath(genpath('Data'))\n",
    "\n",
    "% Folder with 'SeisLab3.02' package\n",
    "addpath(genpath('SeisLab3.02'))\n",
    "\n",
    "% Folder with functions made it to this project\n",
    "addpath(genpath('Functions'))\n",
    "\n",
    "% Suppress excess blank lines to show more output on a single screen.\n",
    "% Default is \"loose= Add blank lines to make output more readable.\"\n",
    "format compact"
   ]
  },
  {
   "cell_type": "markdown",
   "id": "5099e472-51be-4127-83cf-5bf01b459db9",
   "metadata": {},
   "source": [
    "### Training Data\n",
    "\n",
    "Explain that it was selected Well-01 as training data.\n",
    "Well logs and curves are used as synonyms."
   ]
  },
  {
   "cell_type": "code",
   "execution_count": 31,
   "id": "a29f3e35-96d7-4e5d-ab12-49e631ca62cf",
   "metadata": {},
   "outputs": [
    {
     "name": "stdout",
     "output_type": "stream",
     "text": [
      "\n"
     ]
    }
   ],
   "source": [
    "% Well tops definition. They are otherwise known as picks or markers. They define the top and the bottom of the\n",
    "% stratigraphic unit of interest. \n",
    "% Matrix \"WELL_TOPS\": The 1st row is related to training data and 2nd row to test data.\n",
    "% WELL_TOPS = [[top bottom] ; \n",
    "%             [top bottom]]\n",
    "\n",
    "WELL_TOPS = [[7297.9702, 7377.0601] ; [8295.0703, 8377.0703]];"
   ]
  },
  {
   "cell_type": "code",
   "execution_count": 32,
   "id": "58593b65-aa14-43c0-a11d-c13bb2d92d14",
   "metadata": {},
   "outputs": [
    {
     "name": "stdout",
     "output_type": "stream",
     "text": [
      "Log step size not uniform enough; step size changed to 0\n",
      "\n"
     ]
    }
   ],
   "source": [
    "% Load training data.\n",
    "% \"read_las_file\" in 'SeisLab3.02' package return a structure array with all the information from \".LAS\" file\n",
    "Training_data=read_las_file('Well-1.LAS');"
   ]
  },
  {
   "cell_type": "markdown",
   "id": "bd84e4e2-87ff-4ff1-a597-09d7438c1a7d",
   "metadata": {},
   "source": [
    "<i>\"Log step size not uniform enough\"</i> means that in this data the sampling interval is not the same in all well logs. The <i>\"read_las_file\"</i> function returns a structure with many fields, for example:\n",
    "- <i>\"curve_info\"</i>. <b>Curve information</b>. It has acronyms, curves names and units in the same order as in ~ASCII log data section.\n",
    "- <i>\"curves\"</i>. <b>Data section</b>. ~ASCII data for each well log. All values must be floating point or integer (long) values.\n",
    "- <i>\"step\"</i>. Sample interval of the curves.\n",
    "\n",
    "The index of the data columns is either depth, time, or index. Usually, in well logs <b>the sample interval is a constant equal to 0.5 ft.</b>  Let's see its behavior in 6 rows of data."
   ]
  },
  {
   "cell_type": "code",
   "execution_count": 33,
   "id": "3803f53c-a6de-40a4-8652-0eed61267f8b",
   "metadata": {},
   "outputs": [
    {
     "name": "stdout",
     "output_type": "stream",
     "text": [
      "       6890.8          NaN       158.34       86.696          NaN          NaN          NaN\n",
      "         6891          NaN       156.87       87.286          NaN          NaN          NaN\n",
      "         6891        2.529          NaN          NaN       0.9701        0.099       0.5123\n",
      "       6891.2          NaN       155.24       87.794          NaN          NaN          NaN\n",
      "       6891.5        2.516       153.64       88.135            1       0.0989        0.532\n",
      "       6891.8          NaN       152.05       88.204          NaN          NaN          NaN\n",
      "\n"
     ]
    }
   ],
   "source": [
    "% format shortG. Display only 5 digits. \n",
    "% Here you can find more information about format -> https://www.mathworks.com/help/matlab/ref/format.html\n",
    "format shortG\n",
    "\n",
    "disp(Training_data.curves(1505:1510,:))"
   ]
  },
  {
   "cell_type": "markdown",
   "id": "333cc273-4be9-4d6f-9d75-e48f925f88d0",
   "metadata": {},
   "source": [
    "We can see how the function \"read_las_file\" change the step size in order to put together all well logs and fill empty data with NaN values."
   ]
  },
  {
   "cell_type": "code",
   "execution_count": 34,
   "id": "5c8156c8-c0d8-43f3-af97-5f4d7be41ce9",
   "metadata": {},
   "outputs": [
    {
     "name": "stdout",
     "output_type": "stream",
     "text": [
      "\n"
     ]
    },
    {
     "data": {
      "image/png": "[encoded data removed]",
      "text/plain": [
       "<IPython.core.display.Image object>"
      ]
     },
     "metadata": {},
     "output_type": "display_data"
    }
   ],
   "source": [
    "% Substract the next depth value with the previous one and keep into \"measureIntervals\" vector. \n",
    "% This approach tries to avoid for loops, because it's inefficient\n",
    "measureIntervals = Training_data.curves(2:end, 1) - Training_data.curves(1:end-1, 1);\n",
    "\n",
    "% Plot histogram of depth intervals\n",
    "histogram(measureIntervals)\n",
    "title('Histogram of depth intervals before cleaning data')\n",
    "xlabel('Depth intervals')\n",
    "ylabel('Count')"
   ]
  },
  {
   "cell_type": "markdown",
   "id": "06ae5e01-646d-429f-8ffe-9de7b25e689f",
   "metadata": {},
   "source": [
    "The sampling intervals is not the same along the well. In most of the depth column is 0.25 ft. It must be 0.5 ft."
   ]
  },
  {
   "cell_type": "code",
   "execution_count": 35,
   "id": "ee1907df-20b1-4148-83d2-dce2ca4ee94d",
   "metadata": {},
   "outputs": [
    {
     "name": "stdout",
     "output_type": "stream",
     "text": [
      "Percentage of NaN values in training data by curve:\n",
      "Density: 53.88%\n",
      "Delta-T Shear: 13.75%\n",
      "Delta-T Compressional: 13.75%\n",
      "Water Saturation: 68.55%\n",
      "Neutron Porosity: 68.55%\n",
      "Shale Volume: 68.55%\n",
      "\n"
     ]
    }
   ],
   "source": [
    "% NaN values into Well-01\n",
    "disp('Percentage of NaN values in training data by curve:')\n",
    "\n",
    "% Number of rows in Training data matrix\n",
    "nRows = size(Training_data.curves,1);\n",
    "\n",
    "% Compute the percentage of NaN values in each curve.\n",
    "for item = 2:7\n",
    "    nan_values = Training_data.curves(isnan(Training_data.curves(:,item)), item);\n",
    "    pNan = (size(nan_values, 1) / nRows) * 100;\n",
    "    fprintf('%s: %2.2f%%\\n', string(Training_data.curve_info(item, 3)), pNan);\n",
    "end"
   ]
  },
  {
   "cell_type": "markdown",
   "id": "09b7d00e-2652-4a53-86a1-7f353f3b33b4",
   "metadata": {},
   "source": [
    "Here, we can see the <b>high number of NaN values</b> in each curve from Well-01. This could be by:\n",
    "- A large number of depth intervals without data (gaps).\n",
    "- NaN values was added to curves by \"read_las_file\" function, due to step size is not uniform along all the curves.\n",
    "\n",
    "In order to analyse the first hypothesis, let's plot Density, Delta-T Shear and Shale Volume. The function <i>\"plotWellLogs\"</i> filter NaN values and include two green lines for well tops."
   ]
  },
  {
   "cell_type": "code",
   "execution_count": 36,
   "id": "ca9f7603-4876-432d-8976-7919c0638c6e",
   "metadata": {},
   "outputs": [
    {
     "name": "stdout",
     "output_type": "stream",
     "text": [
      "\n"
     ]
    },
    {
     "data": {
      "image/png": "[encoded data removed]",
      "text/plain": [
       "<IPython.core.display.Image object>"
      ]
     },
     "metadata": {},
     "output_type": "display_data"
    }
   ],
   "source": [
    "% plotWellLogs(data, wellNames, units, wellTops)\n",
    "plotWellLogs(Training_data.curves(:,[1, 2, 3, 7]), ...     % data: [DEPTH, RHOB, DTSM, VSH]\n",
    "            Training_data.curve_info([1, 2, 3, 7], 1), ... % wellNames: Column 1 from Training_data.curve_info\n",
    "            Training_data.curve_info([1, 2, 3, 7], 2), ... % units: Column 2 from Training_data.curve_info\n",
    "            WELL_TOPS(1,:));"
   ]
  },
  {
   "cell_type": "markdown",
   "id": "437c082d-f737-4428-b6b8-91f6c517848c",
   "metadata": {},
   "source": [
    "Several observations can be made from this graph:\n",
    "- The interval measurement of the curves is not the same.\n",
    "- There is full data into the stratigraphic unit of interest.\n",
    "- The line curve seems to be continous. There is no visible gaps into the curves.\n",
    "\n",
    "Therefore, the high percentage of NaN values is because of the difference in sample interval. Thus, the solution is interpolate null values and then filter data only each 0.5 ft."
   ]
  },
  {
   "cell_type": "code",
   "execution_count": 37,
   "id": "dc8356da-533e-4225-b3c1-8d934a6a16de",
   "metadata": {},
   "outputs": [
    {
     "name": "stdout",
     "output_type": "stream",
     "text": [
      "\n"
     ]
    }
   ],
   "source": [
    "% function \"l_fill_gaps\". It interpolates null values of all curves. It assumes that null values are represented by NaN’s.\n",
    "Training_data = l_fill_gaps(Training_data);\n",
    "\n",
    "% Filter data every 0.5 ft.\n",
    "% mod(X,b) returns remainder after division of X by b. Here, X is depth column of training data.\n",
    "% The value \"0.5\" makes sure to filter only depths ending in 0.0 or 0.5.\n",
    "Training_data.curves = Training_data.curves(mod(Training_data.curves(:,1), 0.5) == 0,:);"
   ]
  },
  {
   "cell_type": "code",
   "execution_count": 60,
   "id": "39ce04b4-c605-44f9-9d34-862c2c344e2f",
   "metadata": {},
   "outputs": [
    {
     "name": "stdout",
     "output_type": "stream",
     "text": [
      "98.321% of depth column is sampled at 0.5 ft\n",
      "\n"
     ]
    },
    {
     "data": {
      "image/png": "[encoded data removed]",
      "text/plain": [
       "<IPython.core.display.Image object>"
      ]
     },
     "metadata": {},
     "output_type": "display_data"
    }
   ],
   "source": [
    "% Substract the next depth value with the previous one and keep into \"measureIntervals\" vector. \n",
    "measureIntervals = Training_data.curves(2:end, 1) - Training_data.curves(1:end-1, 1);\n",
    "\n",
    "% Plot histogram of depth intervals\n",
    "hist = histogram(measureIntervals);\n",
    "title('Histogram of depth intervals after cleaning data')\n",
    "xlabel('Depth intervals')\n",
    "ylabel('Count')\n",
    "\n",
    "fprintf('%3.3f%% of depth column is sampled at 0.5 ft\\n', (hist.Values(1) * 100) / (hist.Values(end) + hist.Values(1)))"
   ]
  },
  {
   "cell_type": "code",
   "execution_count": null,
   "id": "2fd07cc8-715e-43fd-a133-b8fa4f2ea532",
   "metadata": {},
   "outputs": [],
   "source": []
  },
  {
   "cell_type": "code",
   "execution_count": null,
   "id": "77e18e6d-070a-449d-9512-be486edde0ad",
   "metadata": {},
   "outputs": [],
   "source": []
  },
  {
   "cell_type": "code",
   "execution_count": null,
   "id": "52b886f9-ecf4-4b72-a6bb-5e927e979390",
   "metadata": {},
   "outputs": [],
   "source": []
  },
  {
   "cell_type": "code",
   "execution_count": null,
   "id": "8f5f67ae-cc1a-4b45-ae53-7c07424f5aa2",
   "metadata": {},
   "outputs": [],
   "source": []
  },
  {
   "cell_type": "markdown",
   "id": "1a2ff785-d5b2-47a7-aa6f-c4e9f6906155",
   "metadata": {},
   "source": [
    "Now, let's see these intervals in each curve in order to select data to train the model."
   ]
  },
  {
   "cell_type": "code",
   "execution_count": 33,
   "id": "dc82653c-e326-4cf1-bd23-ef7ef90c6846",
   "metadata": {},
   "outputs": [
    {
     "name": "stdout",
     "output_type": "stream",
     "text": [
      "Measurement interval for all curves in Well-1 (Training Data):\n",
      "Density: (6530.5 - 7560.0) ft\n",
      "Delta-T Shear: (6570.0 - 7540.0) ft\n",
      "Delta-T Compressional: (6570.0 - 7540.0) ft\n",
      "Water Saturation: (6850.0 - 7552.0) ft\n",
      "Neutron Porosity: (6850.0 - 7552.0) ft\n",
      "Shale Volume: (6850.0 - 7552.0) ft\n",
      "\n"
     ]
    }
   ],
   "source": [
    "% Print measurement interval of all curves\n",
    "fprintf('Measurement interval for all curves in %s (Training Data):\\n', Training_data.wellname)\n",
    "for iCols= 2: size(Training_data.curves, 2)\n",
    "    first_index = find(~isnan(Training_data.curves(:,iCols)), 1, 'first');\n",
    "    last_index = find(~isnan(Training_data.curves(:,iCols)), 1, 'last');\n",
    "    fprintf('%s: (%4.1f - %4.1f) ft\\n',  string(Training_data.curve_info(iCols,3)),...\n",
    "                                    Training_data.curves(first_index,1), ...\n",
    "                                    Training_data.curves(last_index,1))\n",
    "end"
   ]
  },
  {
   "cell_type": "markdown",
   "id": "75cf2cc3-8da9-4caf-a184-a0fa1fe637c5",
   "metadata": {},
   "source": [
    "Base on these intervals and the limits of the Training area: 7150 - 7500 add 150 (top) - 120ft (bottom)"
   ]
  },
  {
   "cell_type": "markdown",
   "id": "b9ba19ad-33d5-44cc-86a7-9de3cf51505c",
   "metadata": {},
   "source": [
    "- Plot histograms of data.\n",
    "- Crossplots VP-Density and color with Vshale or Porosity or Water Saturation.\n",
    "- Histogram for shale densities and sand desities and show the difference.\n",
    "- Plot Box plot and cross plot here in order to see some primary correlations."
   ]
  },
  {
   "cell_type": "code",
   "execution_count": null,
   "id": "0b5f4db0-011c-4fe3-b5ea-7450df6af5f7",
   "metadata": {},
   "outputs": [],
   "source": []
  },
  {
   "cell_type": "code",
   "execution_count": null,
   "id": "2cd5f3f9-8608-4e7a-95bb-a74d2cd36ff9",
   "metadata": {},
   "outputs": [],
   "source": []
  },
  {
   "cell_type": "code",
   "execution_count": null,
   "id": "abbaf11c-95cf-48c1-8b81-abb3f0006fde",
   "metadata": {},
   "outputs": [],
   "source": []
  },
  {
   "cell_type": "code",
   "execution_count": null,
   "id": "76845fa2-bb7f-494c-9764-ee6bfaa49b38",
   "metadata": {},
   "outputs": [],
   "source": []
  },
  {
   "cell_type": "markdown",
   "id": "f1804e44-827e-41ed-ae5f-30039d3869e9",
   "metadata": {},
   "source": []
  },
  {
   "cell_type": "code",
   "execution_count": null,
   "id": "b8872aed",
   "metadata": {},
   "outputs": [],
   "source": []
  },
  {
   "cell_type": "code",
   "execution_count": null,
   "id": "9a8af91b",
   "metadata": {},
   "outputs": [],
   "source": []
  },
  {
   "cell_type": "code",
   "execution_count": 6,
   "id": "e9b93424-8179-4057-9719-8c7f717de471",
   "metadata": {},
   "outputs": [
    {
     "name": "stdout",
     "output_type": "stream",
     "text": [
      "\n"
     ]
    },
    {
     "data": {
      "image/png": "[encoded data removed]",
      "text/plain": [
       "<IPython.core.display.Image object>"
      ]
     },
     "metadata": {},
     "output_type": "display_data"
    }
   ],
   "source": [
    "% Plot RHOB, DTCO, DTSM histogram\n",
    "for item = 1:3\n",
    "    ax = subplot(3, 1, item);\n",
    "    histogram(Training_data.curves(:, item+1));\n",
    "    ax.FontSize = 7;\n",
    "    ax.TitleFontSizeMultiplier = 1.5;\n",
    "    title(Training_data.curve_info(item+1,3));\n",
    "end"
   ]
  },
  {
   "cell_type": "code",
   "execution_count": 7,
   "id": "3cb357a8-58b5-407a-a70c-edbae5e15f3f",
   "metadata": {},
   "outputs": [
    {
     "name": "stdout",
     "output_type": "stream",
     "text": [
      "\n"
     ]
    },
    {
     "data": {
      "image/png": "[encoded data removed]",
      "text/plain": [
       "<IPython.core.display.Image object>"
      ]
     },
     "metadata": {},
     "output_type": "display_data"
    }
   ],
   "source": [
    "% Plot RHOB, DTCO, DTSM histogram\n",
    "for item = 1:3\n",
    "    ax = subplot(3, 1, item);\n",
    "    histogram(Training_data.curves(:, item+4));\n",
    "    ax.FontSize = 7;\n",
    "    ax.TitleFontSizeMultiplier = 1.5;\n",
    "    title(Training_data.curve_info(item+4,3));\n",
    "end"
   ]
  },
  {
   "cell_type": "code",
   "execution_count": null,
   "id": "8fc9dd17-3f2c-46c8-913d-c9bc6aba4d43",
   "metadata": {},
   "outputs": [],
   "source": []
  },
  {
   "cell_type": "code",
   "execution_count": null,
   "id": "a9f94ab0-eca3-4bf7-bc15-9dba013066ac",
   "metadata": {},
   "outputs": [],
   "source": []
  },
  {
   "cell_type": "code",
   "execution_count": null,
   "id": "eeae480f-6fb6-46a0-955b-42154a114f58",
   "metadata": {},
   "outputs": [],
   "source": []
  },
  {
   "cell_type": "code",
   "execution_count": null,
   "id": "0fdfe52f-ce89-4176-9cc1-10a4c0da65a5",
   "metadata": {},
   "outputs": [],
   "source": []
  },
  {
   "cell_type": "code",
   "execution_count": 11,
   "id": "598da8ad-2357-4520-be66-e6842a851a14",
   "metadata": {
    "tags": []
   },
   "outputs": [
    {
     "name": "stdout",
     "output_type": "stream",
     "text": [
      "\n"
     ]
    }
   ],
   "source": [
    "% Load test data.\n",
    "Test_data=read_las_file('Well-2.LAS');"
   ]
  },
  {
   "cell_type": "code",
   "execution_count": 17,
   "id": "961a5379-7d4a-4149-a122-59ea88dd9c47",
   "metadata": {},
   "outputs": [
    {
     "name": "stdout",
     "output_type": "stream",
     "text": [
      "Number of NaN values in test data:\n",
      "Density: 11\n",
      "Delta-T Shear: 0\n",
      "Delta-T Compressional: 1\n",
      "Shale Volume: 1568\n",
      "Water Saturation: 1568\n",
      "Neutron Porosity: 1568\n",
      "\n"
     ]
    }
   ],
   "source": [
    "disp('Number of NaN values in test data:')\n",
    "for item = 2:7\n",
    "    nan_values = Test_data.curves(isnan(Test_data.curves(:,item)), item);\n",
    "    fprintf('%s: %d\\n', string(Test_data.curve_info(item, 3)), size(nan_values, 1));\n",
    "end"
   ]
  },
  {
   "cell_type": "code",
   "execution_count": null,
   "id": "05bf754c-f621-4fbe-be20-0e8ca2b7e275",
   "metadata": {},
   "outputs": [],
   "source": []
  },
  {
   "cell_type": "code",
   "execution_count": null,
   "id": "34ebee6b-88ae-4a84-bb34-8342a5fe27be",
   "metadata": {},
   "outputs": [],
   "source": []
  },
  {
   "cell_type": "code",
   "execution_count": 23,
   "id": "16d6aec9-f130-4579-b63e-3ce63fff8993",
   "metadata": {},
   "outputs": [
    {
     "name": "stdout",
     "output_type": "stream",
     "text": [
      "\n"
     ]
    }
   ],
   "source": [
    "% By now, I think this is not important to transform DT data to Velocity."
   ]
  },
  {
   "cell_type": "code",
   "execution_count": null,
   "id": "e6acbf11-2f77-4b27-935b-f5a73e9e5735",
   "metadata": {},
   "outputs": [],
   "source": []
  },
  {
   "cell_type": "code",
   "execution_count": null,
   "id": "ee0a0c9c-62db-4b55-b0e9-9e8d1501bf5f",
   "metadata": {},
   "outputs": [],
   "source": []
  },
  {
   "cell_type": "markdown",
   "id": "2ace8fc4-50d9-48d7-a17a-9a0616dccb78",
   "metadata": {},
   "source": [
    "## Pre-processing data"
   ]
  },
  {
   "cell_type": "code",
   "execution_count": null,
   "id": "3ee1d47c-2787-48b2-91b8-4b056573e970",
   "metadata": {},
   "outputs": [],
   "source": []
  },
  {
   "cell_type": "code",
   "execution_count": null,
   "id": "d3cafa11-63b7-4ec5-bf46-afa7adfc284c",
   "metadata": {},
   "outputs": [],
   "source": []
  },
  {
   "cell_type": "code",
   "execution_count": null,
   "id": "b4cbe7db-398d-46db-8378-bc0133651152",
   "metadata": {},
   "outputs": [],
   "source": []
  },
  {
   "cell_type": "code",
   "execution_count": null,
   "id": "cf6fe0fd-684b-4f8b-9fab-5b6f5e52caa7",
   "metadata": {},
   "outputs": [],
   "source": []
  },
  {
   "cell_type": "code",
   "execution_count": null,
   "id": "c71a3316-b6f4-46b1-9cba-fbae0a1f2018",
   "metadata": {},
   "outputs": [],
   "source": []
  },
  {
   "cell_type": "code",
   "execution_count": null,
   "id": "d9c98770-3f98-4179-8bda-ecd30b860f3a",
   "metadata": {},
   "outputs": [],
   "source": []
  },
  {
   "cell_type": "code",
   "execution_count": null,
   "id": "5ca33d5d-58ef-4a79-a11d-2647fc27dd71",
   "metadata": {},
   "outputs": [],
   "source": []
  },
  {
   "cell_type": "code",
   "execution_count": null,
   "id": "3e80bfbc-390d-45da-9d8f-b399f0955ed2",
   "metadata": {},
   "outputs": [],
   "source": []
  },
  {
   "cell_type": "markdown",
   "id": "c36c083d-d3e1-4299-91a9-56acfd158c72",
   "metadata": {},
   "source": [
    "Check overfitting - underfitting"
   ]
  },
  {
   "cell_type": "code",
   "execution_count": null,
   "id": "c698d65a-0334-4372-9136-3ae2f3238cd2",
   "metadata": {},
   "outputs": [],
   "source": []
  },
  {
   "cell_type": "code",
   "execution_count": 8,
   "id": "772c130c-2199-4c75-8347-febe90ba1537",
   "metadata": {},
   "outputs": [
    {
     "name": "stdout",
     "output_type": "stream",
     "text": [
      "\n"
     ]
    },
    {
     "data": {
      "image/png": "[encoded data removed]",
      "text/plain": [
       "<IPython.core.display.Image object>"
      ]
     },
     "metadata": {},
     "output_type": "display_data"
    }
   ],
   "source": [
    "[rows, columns] = size(Training_data.curve_info);\n",
    "\n",
    "axis = zeros(6,4);\n",
    "f = cell(6,1);\n",
    "for i= 2:rows\n",
    "\n",
    "    ax = subplot(3, 3, i-1);\n",
    "    histogram(Training_data.curves(:, i));\n",
    "    ax.FontSize = 8;\n",
    "    ax.TitleFontSizeMultiplier = 1.2;\n",
    "\n",
    "    f{i-1} = ax;\n",
    "    axis(i-1, :) = get(ax, 'position');\n",
    "\n",
    "    title(Training_data.curve_info(i,3));\n",
    "end\n",
    "\n",
    "var = get(f{1}, 'position');\n",
    "set(f{1}, 'position', var + [0, -0.1, 0.1, 0.1]);\n",
    "\n",
    "var = get(f{2}, 'position');\n",
    "set(f{2}, 'position', var + [0.1, -0.1, 0.1, 0.1]);\n",
    "\n",
    "var = get(f{3}, 'position');\n",
    "set(f{3}, 'position', var + [0.2, -0.1, 0.1, 0.1]);\n",
    "\n",
    "var = get(f{4}, 'position');\n",
    "set(f{4}, 'position', var + [0, -0.3, 0.1, 0.1]);\n",
    "\n",
    "var = get(f{5}, 'position');\n",
    "set(f{5}, 'position', var + [0.1, -0.3, 0.1, 0.1]);\n",
    "\n",
    "var = get(f{6}, 'position');\n",
    "set(f{6}, 'position', var + [0.2, -0.3, 0.1, 0.1]);"
   ]
  },
  {
   "cell_type": "code",
   "execution_count": null,
   "id": "583ce119",
   "metadata": {},
   "outputs": [],
   "source": []
  }
 ],
 "metadata": {
  "kernelspec": {
   "display_name": "Matlab",
   "language": "matlab",
   "name": "matlab"
  },
  "language_info": {
   "codemirror_mode": "octave",
   "file_extension": ".m",
   "help_links": [
    {
     "text": "MetaKernel Magics",
     "url": "https://metakernel.readthedocs.io/en/latest/source/README.html"
    }
   ],
   "mimetype": "text/x-octave",
   "name": "matlab",
   "version": "0.16.11"
  }
 },
 "nbformat": 4,
 "nbformat_minor": 5
}
