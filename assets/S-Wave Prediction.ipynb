{
 "cells": [
  {
   "cell_type": "markdown",
   "id": "0c8e7338-2e1d-4abf-b157-0647efdbdece",
   "metadata": {},
   "source": [
    "# S-Wave Prediction"
   ]
  },
  {
   "cell_type": "markdown",
   "id": "a0bd2c2c-4d19-41e7-b7f7-bdfabb981107",
   "metadata": {},
   "source": [
    "#### Global Variables.\n",
    "This values will be use throughout the algorithm."
   ]
  },
  {
   "cell_type": "markdown",
   "id": "e83ea764-568b-4825-87c3-e920e92c08f0",
   "metadata": {},
   "source": [
    "SeisLab https://www.mathworks.com/matlabcentral/fileexchange/53109-seislab-3-02?s_tid=FX_rc1_behav"
   ]
  },
  {
   "cell_type": "code",
   "execution_count": 10,
   "id": "8ae91c06-3702-45a6-b4e8-497cb24a7faf",
   "metadata": {},
   "outputs": [
    {
     "name": "stdout",
     "output_type": "stream",
     "text": [
      "\n"
     ]
    }
   ],
   "source": [
    "global obj pred num\n",
    "\n",
    "% obj: Integer. Refers to location of the well log column in the \".LAS\" file, that is the target of the prediction.\n",
    "obj=3;\n",
    "\n",
    "% pred: Vector. Refers to location of the well logs columns in the \".LAS\" file, selected as input to train the model.\n",
    "pred=[6 7];\n",
    "\n",
    "% num: Number of independent variables, i.e. size of the vector \"pred\".\n",
    "num=size(pred,2);\n",
    "\n",
    "% Selection of prediction technique.\n",
    "% 1: Genetic Algorithms using linear equation.\n",
    "% 2: Genetic Algorithms using polynomial equation.\n",
    "% 3: Fuzzy Logic.\n",
    "PREDICCION=3;"
   ]
  },
  {
   "cell_type": "code",
   "execution_count": null,
   "id": "40d6732c-da09-4656-97f6-dfb16d0b7e93",
   "metadata": {},
   "outputs": [],
   "source": []
  }
 ],
 "metadata": {
  "kernelspec": {
   "display_name": "Matlab",
   "language": "matlab",
   "name": "matlab"
  },
  "language_info": {
   "codemirror_mode": "octave",
   "file_extension": ".m",
   "help_links": [
    {
     "text": "MetaKernel Magics",
     "url": "https://metakernel.readthedocs.io/en/latest/source/README.html"
    }
   ],
   "mimetype": "text/x-octave",
   "name": "matlab",
   "version": "0.16.11"
  }
 },
 "nbformat": 4,
 "nbformat_minor": 5
}
